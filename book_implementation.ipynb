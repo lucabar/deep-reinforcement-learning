{
 "cells": [
  {
   "cell_type": "code",
   "execution_count": 68,
   "metadata": {},
   "outputs": [
    {
     "name": "stderr",
     "output_type": "stream",
     "text": [
      "WARNING:absl:`lr` is deprecated in Keras optimizer, please use `learning_rate` or use the legacy optimizer, e.g.,tf.keras.optimizers.legacy.Adam.\n"
     ]
    }
   ],
   "source": [
    "import gym\n",
    "import tensorflow as tf\n",
    "from tensorflow import keras\n",
    "import numpy as np\n",
    "\n",
    "from collections import deque # for experience replay\n",
    "\n",
    "replay_buffer = deque(maxlen=2000) # 2000 is the maximum number of transitions we want to store\n",
    "\n",
    "# constants / initializations\n",
    "batch_size = 32\n",
    "discount_factor = 0.95\n",
    "optimizer = keras.optimizers.Adam(lr=1e-3)\n",
    "loss_fn = keras.losses.mean_squared_error\n",
    "learning_rate = 0.0001\n",
    " \n",
    "\n",
    "env = gym.make(\"CartPole-v1\", render_mode=\"rgb_array\")\n",
    "\n",
    "input_shape = [4] # == env.observation_space.shape\n",
    "n_outputs = 2 # == env.action_space.n\n",
    "\n",
    "model = keras.models.Sequential([\n",
    "keras.layers.Dense(32, activation=\"elu\", input_shape=input_shape),\n",
    "keras.layers.Dense(32, activation=\"elu\"),\n",
    "keras.layers.Dense(n_outputs)\n",
    "])\n",
    "model.compile(optimizer, loss_fn)\n",
    "\n",
    "\n",
    "def epsilon_greedy_policy(state, epsilon=0):\n",
    "    if np.random.rand() < epsilon:\n",
    "        return np.random.randint(2)\n",
    "    else:\n",
    "        \n",
    "        # make the state a tensor --> the problem is that the state some specific times comes as a tuple and not as a numpy array !!!!!!\n",
    "        \n",
    "        #state = tf.convert_to_tensor(state) try 1\n",
    "        #state = tf.ragged.constant(state) try 2\n",
    "        print( 'state: ', state, 'type: ', type(state)) # , 'dtype: ', state.dtype --> tuples dont have dtype\n",
    "\n",
    "        if type(state) == tuple:\n",
    "            print('It was tuple')\n",
    "            #state = np.asarray(state).astype(np.float32)\n",
    "            #state = np.array(state)\n",
    "            #state = np.asanyarray(state)\n",
    "            #array_state = np.array([])\n",
    "            #for i in range(len(state)):\n",
    "            #    array_state = np.append(array_state, state[i])\n",
    "            #print( 'Now for the state: ', array_state, ' the type changed to: ', type(array_state))\n",
    "            #state = array_state.astype(np.float32)\n",
    "            state = np.array(state)\n",
    "\n",
    "            \n",
    "            \n",
    "        \n",
    "        Q_values = model.predict(state[np.newaxis]) # outputs two Q-values [np.newaxis, :]\n",
    "        return np.argmax(Q_values[0]) # [0]\n",
    "    \n",
    "\n",
    "def sample_experiences(batch_size):\n",
    "    indices = np.random.randint(len(replay_buffer), size=batch_size)\n",
    "    batch = [replay_buffer[index] for index in indices]\n",
    "    states, actions, rewards, next_states, dones = [\n",
    "        np.array([experience[field_index] for experience in batch])\n",
    "        for field_index in range(5)]\n",
    "    return states, actions, rewards, next_states, dones\n",
    "\n",
    "def make_tensor(s, list: bool):\n",
    "    '''in order to be used in net.predict() method'''\n",
    "    s_tensor = tf.convert_to_tensor(s)\n",
    "    if list:\n",
    "        return s_tensor\n",
    "    return tf.expand_dims(s_tensor, 0)\n",
    "\n",
    "\n",
    "def training_step(batch_size):\n",
    "    experiences = sample_experiences(batch_size)\n",
    "    states, actions, rewards, next_states, dones = experiences\n",
    "    next_Q_values = model.predict(next_states)\n",
    "    max_next_Q_values = np.max(next_Q_values, axis=1)\n",
    "    target_Q_values = (rewards +\n",
    "                        (1 - dones) * discount_factor * max_next_Q_values)\n",
    "    mask = tf.one_hot(actions, n_outputs)\n",
    "    with tf.GradientTape() as tape:\n",
    "        all_Q_values = model(states)\n",
    "        print('all_Q_values: ', all_Q_values)\n",
    "        Q_values = tf.reduce_sum(all_Q_values * mask, axis=1, keepdims=True)\n",
    "        loss = tf.reduce_mean(loss_fn(target_Q_values, Q_values))\n",
    "    grads = tape.gradient(loss, model.trainable_variables)\n",
    "    optimizer.apply_gradients(zip(grads, model.trainable_variables))\n",
    "\n"
   ]
  },
  {
   "cell_type": "code",
   "execution_count": 69,
   "metadata": {},
   "outputs": [
    {
     "name": "stdout",
     "output_type": "stream",
     "text": [
      "episode:  0\n",
      "state:  (array([ 0.0210058 ,  0.01163094,  0.00669396, -0.00676566], dtype=float32), {}) type:  <class 'tuple'>\n",
      "It was tuple\n"
     ]
    },
    {
     "name": "stderr",
     "output_type": "stream",
     "text": [
      "C:\\Users\\Maximos Bilalis\\AppData\\Local\\Temp\\ipykernel_26164\\1578448440.py:52: VisibleDeprecationWarning: Creating an ndarray from ragged nested sequences (which is a list-or-tuple of lists-or-tuples-or ndarrays with different lengths or shapes) is deprecated. If you meant to do this, you must specify 'dtype=object' when creating the ndarray.\n",
      "  state = np.array(state)\n"
     ]
    },
    {
     "ename": "ValueError",
     "evalue": "Failed to convert a NumPy array to a Tensor (Unsupported object type numpy.ndarray).",
     "output_type": "error",
     "traceback": [
      "\u001b[1;31m---------------------------------------------------------------------------\u001b[0m",
      "\u001b[1;31mValueError\u001b[0m                                Traceback (most recent call last)",
      "Cell \u001b[1;32mIn[69], line 22\u001b[0m\n\u001b[0;32m     20\u001b[0m \u001b[39mfor\u001b[39;00m step \u001b[39min\u001b[39;00m \u001b[39mrange\u001b[39m(\u001b[39m200\u001b[39m):\n\u001b[0;32m     21\u001b[0m     epsilon \u001b[39m=\u001b[39m \u001b[39m0.5\u001b[39m \u001b[39m# max(1 - episode / 500, 0.01)\u001b[39;00m\n\u001b[1;32m---> 22\u001b[0m     obs, reward, done, info \u001b[39m=\u001b[39m play_one_step(env, obs, epsilon)\n\u001b[0;32m     23\u001b[0m     \u001b[39mif\u001b[39;00m done:\n\u001b[0;32m     24\u001b[0m         \u001b[39mbreak\u001b[39;00m\n",
      "Cell \u001b[1;32mIn[69], line 3\u001b[0m, in \u001b[0;36mplay_one_step\u001b[1;34m(env, state, epsilon)\u001b[0m\n\u001b[0;32m      1\u001b[0m \u001b[39mdef\u001b[39;00m \u001b[39mplay_one_step\u001b[39m(env, state, epsilon):\n\u001b[1;32m----> 3\u001b[0m     action \u001b[39m=\u001b[39m epsilon_greedy_policy(state, epsilon)\n\u001b[0;32m      5\u001b[0m     next_state, reward, done, trunk, info \u001b[39m=\u001b[39m env\u001b[39m.\u001b[39mstep(action)\n\u001b[0;32m      6\u001b[0m     \u001b[39mprint\u001b[39m(\u001b[39m'\u001b[39m\u001b[39mnext_state: \u001b[39m\u001b[39m'\u001b[39m, next_state, \u001b[39m'\u001b[39m\u001b[39mtype: \u001b[39m\u001b[39m'\u001b[39m, \u001b[39mtype\u001b[39m(next_state))\n",
      "Cell \u001b[1;32mIn[68], line 57\u001b[0m, in \u001b[0;36mepsilon_greedy_policy\u001b[1;34m(state, epsilon)\u001b[0m\n\u001b[0;32m     44\u001b[0m     \u001b[39m#state = np.asarray(state).astype(np.float32)\u001b[39;00m\n\u001b[0;32m     45\u001b[0m     \u001b[39m#state = np.array(state)\u001b[39;00m\n\u001b[0;32m     46\u001b[0m     \u001b[39m#state = np.asanyarray(state)\u001b[39;00m\n\u001b[1;32m   (...)\u001b[0m\n\u001b[0;32m     50\u001b[0m     \u001b[39m#print( 'Now for the state: ', array_state, ' the type changed to: ', type(array_state))\u001b[39;00m\n\u001b[0;32m     51\u001b[0m     \u001b[39m#state = array_state.astype(np.float32)\u001b[39;00m\n\u001b[0;32m     52\u001b[0m     state \u001b[39m=\u001b[39m np\u001b[39m.\u001b[39marray(state)\n\u001b[1;32m---> 57\u001b[0m Q_values \u001b[39m=\u001b[39m model\u001b[39m.\u001b[39;49mpredict(state[np\u001b[39m.\u001b[39;49mnewaxis]) \u001b[39m# outputs two Q-values [np.newaxis, :]\u001b[39;00m\n\u001b[0;32m     58\u001b[0m \u001b[39mreturn\u001b[39;00m np\u001b[39m.\u001b[39margmax(Q_values[\u001b[39m0\u001b[39m])\n",
      "File \u001b[1;32mc:\\Users\\Maximos Bilalis\\AppData\\Local\\Programs\\Python\\Python38\\lib\\site-packages\\keras\\utils\\traceback_utils.py:70\u001b[0m, in \u001b[0;36mfilter_traceback.<locals>.error_handler\u001b[1;34m(*args, **kwargs)\u001b[0m\n\u001b[0;32m     67\u001b[0m     filtered_tb \u001b[39m=\u001b[39m _process_traceback_frames(e\u001b[39m.\u001b[39m__traceback__)\n\u001b[0;32m     68\u001b[0m     \u001b[39m# To get the full stack trace, call:\u001b[39;00m\n\u001b[0;32m     69\u001b[0m     \u001b[39m# `tf.debugging.disable_traceback_filtering()`\u001b[39;00m\n\u001b[1;32m---> 70\u001b[0m     \u001b[39mraise\u001b[39;00m e\u001b[39m.\u001b[39mwith_traceback(filtered_tb) \u001b[39mfrom\u001b[39;00m \u001b[39mNone\u001b[39m\n\u001b[0;32m     71\u001b[0m \u001b[39mfinally\u001b[39;00m:\n\u001b[0;32m     72\u001b[0m     \u001b[39mdel\u001b[39;00m filtered_tb\n",
      "File \u001b[1;32mc:\\Users\\Maximos Bilalis\\AppData\\Local\\Programs\\Python\\Python38\\lib\\site-packages\\tensorflow\\python\\framework\\constant_op.py:103\u001b[0m, in \u001b[0;36mconvert_to_eager_tensor\u001b[1;34m(value, ctx, dtype)\u001b[0m\n\u001b[0;32m    101\u001b[0m     dtype \u001b[39m=\u001b[39m dtypes\u001b[39m.\u001b[39mas_dtype(dtype)\u001b[39m.\u001b[39mas_datatype_enum\n\u001b[0;32m    102\u001b[0m ctx\u001b[39m.\u001b[39mensure_initialized()\n\u001b[1;32m--> 103\u001b[0m \u001b[39mreturn\u001b[39;00m ops\u001b[39m.\u001b[39;49mEagerTensor(value, ctx\u001b[39m.\u001b[39;49mdevice_name, dtype)\n",
      "\u001b[1;31mValueError\u001b[0m: Failed to convert a NumPy array to a Tensor (Unsupported object type numpy.ndarray)."
     ]
    }
   ],
   "source": [
    "def play_one_step(env, state, epsilon):\n",
    "    \n",
    "    action = epsilon_greedy_policy(state, epsilon)\n",
    "    \n",
    "    next_state, reward, done, trunk, info = env.step(action)\n",
    "    print('next_state: ', next_state, 'type: ', type(next_state))\n",
    "    #position, velocity, angle, angular_vel = env.observation\n",
    "    # !!!!!!!!!!!!!!!!!!!!!\n",
    "    #next_state, reward, term, trunk, done, info = env.step(action=action)    \n",
    "\n",
    "    replay_buffer.append((state, action, reward, next_state, done))\n",
    "    return next_state, reward, done, info\n",
    "\n",
    "\n",
    "\n",
    "\n",
    "for episode in range(600):\n",
    "    obs = env.reset()\n",
    "    print('episode: ', episode)\n",
    "    for step in range(200):\n",
    "        epsilon = 0.5 # max(1 - episode / 500, 0.01)\n",
    "        obs, reward, done, info = play_one_step(env, obs, epsilon)\n",
    "        if done:\n",
    "            break\n",
    "    if episode > 50:\n",
    "        training_step(batch_size)"
   ]
  }
 ],
 "metadata": {
  "kernelspec": {
   "display_name": "Python 3",
   "language": "python",
   "name": "python3"
  },
  "language_info": {
   "codemirror_mode": {
    "name": "ipython",
    "version": 3
   },
   "file_extension": ".py",
   "mimetype": "text/x-python",
   "name": "python",
   "nbconvert_exporter": "python",
   "pygments_lexer": "ipython3",
   "version": "3.8.2"
  },
  "orig_nbformat": 4
 },
 "nbformat": 4,
 "nbformat_minor": 2
}
